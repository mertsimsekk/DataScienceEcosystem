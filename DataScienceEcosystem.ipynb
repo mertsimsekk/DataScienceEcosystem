{
 "cells": [
  {
   "cell_type": "markdown",
   "id": "18123e89",
   "metadata": {},
   "source": [
    "# Data Science Tools and Ecosystem "
   ]
  },
  {
   "cell_type": "markdown",
   "id": "93ed31cb",
   "metadata": {},
   "source": [
    "In this notebook , Data Science Tools and  Ecosystem are sumarized."
   ]
  },
  {
   "cell_type": "markdown",
   "id": "b96e8b10",
   "metadata": {},
   "source": [
    "Some of the popular languages that Data Scientists use are;\n",
    "1. Python\n",
    "2. R\n",
    "3. SQL\n",
    "4. C++\n",
    "5. Java etc..;"
   ]
  },
  {
   "cell_type": "markdown",
   "id": "af53e784",
   "metadata": {},
   "source": [
    "Some of the commonly used libraries used Data Scientists include:\n",
    "1.Tenserflow.\n",
    "2.NumPy.\n",
    "3.SciPy.\n",
    "4.Pandas.\n",
    "5.Matplotlib.\n",
    "6.Keras.\n",
    "7.SciKit-Learn.\n",
    "8.PyTorch. etc..;"
   ]
  },
  {
   "cell_type": "markdown",
   "id": "975503b7",
   "metadata": {},
   "source": [
    "|Data Science Tools|\n",
    "|---|\n",
    "|SAS|\n",
    "|Apache Hadoop|\n",
    "|Tenserflow|\n"
   ]
  },
  {
   "cell_type": "markdown",
   "id": "35e6d31a",
   "metadata": {},
   "source": [
    "### Below are a few examples of evaluating arithmetic expressions in Python"
   ]
  },
  {
   "cell_type": "code",
   "execution_count": 2,
   "id": "dd0cc990",
   "metadata": {},
   "outputs": [
    {
     "data": {
      "text/plain": [
       "17"
      ]
     },
     "execution_count": 2,
     "metadata": {},
     "output_type": "execute_result"
    }
   ],
   "source": [
    "#this is a common arithmetic example to multiply and then add integers\n",
    "(3*4)+5"
   ]
  },
  {
   "cell_type": "code",
   "execution_count": 3,
   "id": "2d66a052",
   "metadata": {
    "scrolled": true
   },
   "outputs": [
    {
     "data": {
      "text/plain": [
       "3.3333333333333335"
      ]
     },
     "execution_count": 3,
     "metadata": {},
     "output_type": "execute_result"
    }
   ],
   "source": [
    "#This will convert 200 minutes to hours by diving by 60\n",
    "200/60"
   ]
  },
  {
   "cell_type": "markdown",
   "id": "12ce99bb",
   "metadata": {},
   "source": [
    "__Objective__\n",
    "* List popular languages for Data Science\n",
    "* List popular libraries for Data Science \n",
    "* List of Well known Data Science Tools\n",
    "* How the Provide comments in the cell "
   ]
  },
  {
   "cell_type": "markdown",
   "id": "daee909a",
   "metadata": {},
   "source": [
    "## Author \n",
    "Mert Şimşek "
   ]
  }
 ],
 "metadata": {
  "kernelspec": {
   "display_name": "Python 3 (ipykernel)",
   "language": "python",
   "name": "python3"
  },
  "language_info": {
   "codemirror_mode": {
    "name": "ipython",
    "version": 3
   },
   "file_extension": ".py",
   "mimetype": "text/x-python",
   "name": "python",
   "nbconvert_exporter": "python",
   "pygments_lexer": "ipython3",
   "version": "3.11.1"
  }
 },
 "nbformat": 4,
 "nbformat_minor": 5
}
